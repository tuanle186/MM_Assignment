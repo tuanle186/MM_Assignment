{
 "cells": [
  {
   "cell_type": "code",
   "execution_count": null,
   "id": "a094e795-daa1-4d41-a5c2-3f44ad5d1245",
   "metadata": {},
   "outputs": [],
   "source": [
    "import pandas as pd\n",
    "\n",
    "capacities = pd.DataFrame(\n",
    "    [[\"seattle\", 350], [\"san-diego\", 600]], columns=[\"city\", \"capacity\"]\n",
    ").set_index(\"city\")\n",
    "\n",
    "capacities"
   ]
  },
  {
   "cell_type": "code",
   "execution_count": null,
   "id": "016eea84-5a80-4297-b5ea-8ae6225bc954",
   "metadata": {},
   "outputs": [],
   "source": [
    "demands = pd.DataFrame(\n",
    "    [[\"new-york\", 325], [\"chicago\", 300], [\"topeka\", 275]], columns=[\"city\", \"demand\"]\n",
    ").set_index(\"city\")\n",
    "\n",
    "demands"
   ]
  },
  {
   "cell_type": "code",
   "execution_count": null,
   "id": "87db2225-eb85-4974-8abb-d579e2cb7d43",
   "metadata": {},
   "outputs": [],
   "source": [
    "distances = pd.DataFrame(\n",
    "    [\n",
    "        [\"seattle\", \"new-york\", 2.5],\n",
    "        [\"seattle\", \"chicago\", 1.7],\n",
    "        [\"seattle\", \"topeka\", 1.8],\n",
    "        [\"san-diego\", \"new-york\", 2.5],\n",
    "        [\"san-diego\", \"chicago\", 1.8],\n",
    "        [\"san-diego\", \"topeka\", 1.4],\n",
    "    ],\n",
    "    columns=[\"from\", \"to\", \"distance\"],\n",
    ").set_index([\"from\", \"to\"])\n",
    "\n",
    "distances"
   ]
  },
  {
   "cell_type": "code",
   "execution_count": null,
   "id": "3762c127-cd14-4ce2-90c3-f606b0acbddf",
   "metadata": {},
   "outputs": [],
   "source": [
    "freight_cost = 90"
   ]
  },
  {
   "cell_type": "code",
   "execution_count": null,
   "id": "a52528c4-00f0-4b33-92b3-5ac9fb9f0473",
   "metadata": {},
   "outputs": [],
   "source": [
    "from gamspy import Container, Set, Parameter, Variable, Equation, Model, Sum, Sense"
   ]
  },
  {
   "cell_type": "code",
   "execution_count": null,
   "id": "98fc55c0-a569-46d5-886d-cee611446540",
   "metadata": {},
   "outputs": [],
   "source": [
    "m = Container()"
   ]
  },
  {
   "cell_type": "code",
   "execution_count": null,
   "id": "8771119a-4497-4491-ac86-9c7bed96a655",
   "metadata": {},
   "outputs": [],
   "source": [
    "i = Set(container=m, name=\"i\", description=\"plants\")\n",
    "i.setRecords(capacities.index)"
   ]
  },
  {
   "cell_type": "code",
   "execution_count": null,
   "id": "d845aff4-9241-47ff-9b52-dd1cc9c0acaa",
   "metadata": {},
   "outputs": [],
   "source": [
    "j = Set(container=m, name=\"j\", description=\"markets\", records=demands.index)"
   ]
  },
  {
   "cell_type": "code",
   "execution_count": null,
   "id": "0c4f97b1-3786-4d0b-bb14-20cae45d1829",
   "metadata": {},
   "outputs": [],
   "source": [
    "i.records"
   ]
  },
  {
   "cell_type": "code",
   "execution_count": null,
   "id": "0bc704ec-8192-482c-9bb3-c6b3c3126f21",
   "metadata": {},
   "outputs": [],
   "source": [
    "j.records"
   ]
  },
  {
   "cell_type": "code",
   "execution_count": null,
   "id": "9baf42b7-c0ea-4430-89bf-49f79728880e",
   "metadata": {},
   "outputs": [],
   "source": [
    "a = Parameter(\n",
    "    container=m,\n",
    "    name=\"a\",\n",
    "    domain=i,\n",
    "    description=\"supply of commodity at plant i (in cases)\",\n",
    "    records=capacities.reset_index(),\n",
    ")\n",
    "a.records"
   ]
  },
  {
   "cell_type": "code",
   "execution_count": null,
   "id": "c717bb60-6f3c-43e8-a182-349bb930c071",
   "metadata": {},
   "outputs": [],
   "source": [
    "b = Parameter(\n",
    "    container=m,\n",
    "    name=\"b\",\n",
    "    domain=j,\n",
    "    description=\"demand for commodity at market j (in cases)\",\n",
    "    records=demands.reset_index(),\n",
    ")\n",
    "b.records"
   ]
  },
  {
   "cell_type": "code",
   "execution_count": null,
   "id": "0a57637d-cc39-42ed-94f2-0cb00d7bc4d8",
   "metadata": {},
   "outputs": [],
   "source": [
    "c = Parameter(\n",
    "    container=m,\n",
    "    name=\"c\",\n",
    "    domain=[i, j],\n",
    "    description=\"cost per unit of shipment between plant i and market j\",\n",
    ")"
   ]
  },
  {
   "cell_type": "code",
   "execution_count": null,
   "id": "cdc606ad-dbc3-4e06-9952-bdae9c352d15",
   "metadata": {},
   "outputs": [],
   "source": [
    "cost = freight_cost * distances / 1000\n",
    "cost"
   ]
  },
  {
   "cell_type": "code",
   "execution_count": null,
   "id": "7905f17f-3345-4e05-a7ec-022a1660ed10",
   "metadata": {},
   "outputs": [],
   "source": [
    "c.setRecords(cost.reset_index())\n",
    "c.records"
   ]
  },
  {
   "cell_type": "code",
   "execution_count": null,
   "id": "7dce9e44-0d74-4042-a84d-f139efdd55df",
   "metadata": {},
   "outputs": [],
   "source": [
    "d = Parameter(\n",
    "    container=m,\n",
    "    name=\"d\",\n",
    "    domain=[i, j],\n",
    "    description=\"distance between plant i and market j\",\n",
    "    records=distances.reset_index(),\n",
    ")\n",
    "d.records"
   ]
  },
  {
   "cell_type": "code",
   "execution_count": null,
   "id": "c47bd654-86c7-457b-8a70-d071491018a5",
   "metadata": {},
   "outputs": [],
   "source": [
    "c[i, j] = freight_cost * d[i, j] / 1000\n",
    "c.records"
   ]
  },
  {
   "cell_type": "code",
   "execution_count": null,
   "id": "755c2a50-2758-4bbf-a3da-24f0a18b0935",
   "metadata": {},
   "outputs": [],
   "source": [
    "x = Variable(\n",
    "    container=m,\n",
    "    name=\"x\",\n",
    "    domain=[i, j],\n",
    "    type=\"Positive\",\n",
    "    description=\"amount of commodity to ship from plant i to market j\",\n",
    ")"
   ]
  },
  {
   "cell_type": "code",
   "execution_count": null,
   "id": "c44e8565-2b9e-4121-a4d8-b98462fdbd54",
   "metadata": {},
   "outputs": [],
   "source": [
    "supply = Equation(\n",
    "    container=m, name=\"supply\", domain=i, description=\"observe supply limit at plant i\"\n",
    ")\n",
    "demand = Equation(\n",
    "    container=m, name=\"demand\", domain=j, description=\"satisfy demand at market j\"\n",
    ")"
   ]
  },
  {
   "cell_type": "code",
   "execution_count": null,
   "id": "a73a2b17-9bc1-4d0e-8cab-ba2ee385dc49",
   "metadata": {},
   "outputs": [],
   "source": [
    "supply[i] = Sum(j, x[i, j]) <= a[i]"
   ]
  },
  {
   "cell_type": "code",
   "execution_count": null,
   "id": "6e184e59-0716-41ad-923d-f11cfd9fc8a0",
   "metadata": {},
   "outputs": [],
   "source": [
    "demand[j] = Sum(i, x[i, j]) >= b[j]"
   ]
  },
  {
   "cell_type": "code",
   "execution_count": null,
   "id": "7d864379-4398-4c12-aaca-3d5cf7b542d7",
   "metadata": {},
   "outputs": [],
   "source": [
    "obj = Sum((i, j), c[i, j] * x[i, j])"
   ]
  },
  {
   "cell_type": "code",
   "execution_count": null,
   "id": "b603fd7b-0d4a-45b7-beda-9a88c9f73350",
   "metadata": {},
   "outputs": [],
   "source": [
    "transport = Model(\n",
    "    m,\n",
    "    name=\"transport\",\n",
    "    equations=[supply, demand],\n",
    "    problem=\"LP\",\n",
    "    sense=Sense.MIN,\n",
    "    objective=obj,\n",
    ")"
   ]
  },
  {
   "cell_type": "code",
   "execution_count": null,
   "id": "c648f9e9-d9cd-4e65-b09f-882e27a00089",
   "metadata": {},
   "outputs": [],
   "source": [
    "transport_2 = Model(\n",
    "    m,\n",
    "    name=\"transport2\",\n",
    "    equations=m.getEquations(),\n",
    "    problem=\"LP\",\n",
    "    sense=Sense.MIN,\n",
    "    objective=obj,\n",
    ")"
   ]
  },
  {
   "cell_type": "code",
   "execution_count": null,
   "id": "7dc05f4d-f4dd-458b-b2bf-ac91d8085d21",
   "metadata": {},
   "outputs": [],
   "source": [
    "import sys\n",
    "\n",
    "transport.solve(output=sys.stdout)"
   ]
  },
  {
   "cell_type": "code",
   "execution_count": null,
   "id": "d4c34ee7-73f3-4b90-8399-ba7b10994df7",
   "metadata": {},
   "outputs": [],
   "source": [
    "x.records.set_index([\"i\", \"j\"])"
   ]
  },
  {
   "cell_type": "code",
   "execution_count": null,
   "id": "cb72a053-2376-47e8-b099-bd82e9be6163",
   "metadata": {},
   "outputs": [],
   "source": [
    "transport.objective_value"
   ]
  }
 ],
 "metadata": {
  "kernelspec": {
   "display_name": "Python 3 (ipykernel)",
   "language": "python",
   "name": "python3"
  },
  "language_info": {
   "codemirror_mode": {
    "name": "ipython",
    "version": 3
   },
   "file_extension": ".py",
   "mimetype": "text/x-python",
   "name": "python",
   "nbconvert_exporter": "python",
   "pygments_lexer": "ipython3",
   "version": "3.12.0"
  }
 },
 "nbformat": 4,
 "nbformat_minor": 5
}
